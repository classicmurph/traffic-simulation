{
 "metadata": {
  "name": "",
  "signature": "sha256:54a7294314a3e84b2c13c04527e1df12c2389a0a83790e260e5cbb6176dc00f4"
 },
 "nbformat": 3,
 "nbformat_minor": 0,
 "worksheets": [
  {
   "cells": [
    {
     "cell_type": "heading",
     "level": 1,
     "metadata": {},
     "source": [
      "Traffic Simulation"
     ]
    },
    {
     "cell_type": "markdown",
     "metadata": {},
     "source": [
      "There are 30 cars on a 1km stretch of straight road. Each car is accelerating to 120km/h. However, they will decrease in speed if they are in bounds of another vehicle. A car class must have an initial speed of zero and a goal speed of 120km/h. 10% of cars (sub-class) will randomly decrease in speed 2m/s, disallowing the cars behind them to continue increasing. There will be a road class that will know the position of all the cars."
     ]
    },
    {
     "cell_type": "code",
     "collapsed": false,
     "input": [
      "import random\n",
      "import numpy as np\n",
      "import statistics as st\n",
      "import matplotlib.pyplot as plt\n",
      "import seaborn as sb\n",
      "from collections import deque as d\n",
      "from itertools import combinations\n"
     ],
     "language": "python",
     "metadata": {},
     "outputs": [],
     "prompt_number": 1
    },
    {
     "cell_type": "code",
     "collapsed": false,
     "input": [
      "%matplotlib inline"
     ],
     "language": "python",
     "metadata": {},
     "outputs": [],
     "prompt_number": 2
    },
    {
     "cell_type": "heading",
     "level": 3,
     "metadata": {},
     "source": [
      "Create Car Class"
     ]
    },
    {
     "cell_type": "code",
     "collapsed": false,
     "input": [
      "class Car():\n",
      "    \"\"\"Responsibilities:\n",
      "    - having a starting speed, and a max speed\n",
      "    - having an acceleration rate\n",
      "    \n",
      "    Collaborators:\n",
      "    - receives starting position from Simulation\n",
      "    \"\"\"\n",
      "    \n",
      "    \n",
      "    def __init__(self, position):\n",
      "        \n",
      "        \n",
      "        self.position = position\n",
      "        self.top_speed = 33.33\n",
      "        self.size = 5\n",
      "        self.speed = 0\n",
      "        \n",
      "    def move_car(self):\n",
      "        \"\"\"Car will increase its speed until it reaches top speed\"\"\"\n",
      "        if self.position > 1000:\n",
      "            self.position = self.position%1000\n",
      "        if self.speed < self.top_speed:\n",
      "            self.speed += 2\n",
      "            self.position = self.position + self.speed\n",
      "        elif self.speed >= self.top_speed:\n",
      "            self.speed = self.top_speed\n",
      "            self.position = self.position + self.speed\n",
      "        return self.position#, self.speed\n",
      "        \"\"\"tested ok\"\"\"\n",
      "\n",
      "    \n",
      "    def slow_down(self):\n",
      "        \"\"\"Acceleration will randomly decrease for certain cars\"\"\"\n",
      "        if self.speed >= 0:\n",
      "            self.speed -= 2\n",
      "            self.position = self.position + self.speed\n",
      "        else:\n",
      "            self.move_car\n",
      "        return self.position\n",
      "        \"\"\"Tested ok\"\"\"\n",
      "    \n",
      "        \n",
      "        \n",
      "        \n",
      "        "
     ],
     "language": "python",
     "metadata": {},
     "outputs": [],
     "prompt_number": 3
    },
    {
     "cell_type": "code",
     "collapsed": false,
     "input": [
      "class Simulation():\n",
      "    \"\"\"\n",
      "    Responsibilities:\n",
      "    - generating cars\n",
      "    - placing cars\n",
      "    - setting cars in motion\n",
      "    - reporting the speed of all cars\n",
      "    - reporting the position of all cars\n",
      "    \n",
      "    Collaborators: Car\n",
      "    \"\"\"\n",
      "    \n",
      "    def __init__(self, num):\n",
      "        self.seconds = 0\n",
      "        self.num_cars = num\n",
      "        self.cars = []\n",
      "        self.positions = []\n",
      "        self.speeds = []\n",
      "        self.tolerance = 25\n",
      "\n",
      "        \n",
      "        \n",
      "    def generate_cars(self):\n",
      "        \"\"\"Will place 30 cars on the road at a distance of 20m\"\"\"\n",
      "        position = -20\n",
      "        for _ in range(self.num_cars):\n",
      "            position += 20\n",
      "            self.cars.append(Car(position))\n",
      "        return self.cars    \n",
      "\n",
      "    \n",
      "    def report_position_of_cars(self):\n",
      "        \"\"\"populate list with position of all cars\"\"\"\n",
      "        self.positions = []\n",
      "        for car in self.cars:\n",
      "            self.positions.append(car.position)\n",
      "        return self.positions\n",
      "        \"\"\"tested ok\"\"\"\n",
      "    \n",
      "    def set_cars_in_motion(self):\n",
      "        \"\"\"calls move function in car class\"\"\"\n",
      "        for car in self.cars:\n",
      "            car.move_car()\n",
      "        return car.position \n",
      "        \"\"\"tested ok\"\"\"\n",
      "            \n",
      "    \n",
      "    \n",
      "    def run_simulation(self):\n",
      "        self.generate_cars()\n",
      "        self.set_cars_in_motion()\n",
      "        self.report_position_of_cars()\n",
      "        \n",
      "        \n",
      "    def clean():\n",
      "        clean_positions = []\n",
      "        for pos in sim.positions:\n",
      "            clean_positions.append(int(pos))\n",
      "            return\n",
      "        return clean_positions    \n",
      "        \n",
      "    \n",
      "    def avoid_collisions(self):\n",
      "        for car1, car2 in combinations(sim.cars, 2):\n",
      "            if car1.position + self.tolerance >= car2.position:\n",
      "                print(\"gotta brake\")\n",
      "                car1.slow_down()\n",
      "            else:\n",
      "                print(\"Keep going\")\n",
      "        \"\"\"tested ok\"\"\" \n",
      "\n",
      "    \n",
      "    def report(self):\n",
      "        \"\"\"get some data from sim\"\"\"\n",
      "        return self.seconds, self.report_position_of_cars()\n",
      "    "
     ],
     "language": "python",
     "metadata": {},
     "outputs": [],
     "prompt_number": 4
    },
    {
     "cell_type": "markdown",
     "metadata": {},
     "source": [
      "Step 1: Test car generation"
     ]
    },
    {
     "cell_type": "code",
     "collapsed": false,
     "input": [
      "simulation = Simulation(15)\n",
      "simulation.run_simulation()\n",
      "print(len(simulation.cars))\n"
     ],
     "language": "python",
     "metadata": {},
     "outputs": [
      {
       "output_type": "stream",
       "stream": "stdout",
       "text": [
        "15\n"
       ]
      }
     ],
     "prompt_number": 5
    },
    {
     "cell_type": "markdown",
     "metadata": {},
     "source": [
      "Step 2: Test Cars have a starting position"
     ]
    },
    {
     "cell_type": "code",
     "collapsed": false,
     "input": [
      "simulation.report_position_of_cars()\n",
      "print(len(simulation.positions))"
     ],
     "language": "python",
     "metadata": {},
     "outputs": [
      {
       "output_type": "stream",
       "stream": "stdout",
       "text": [
        "15\n"
       ]
      }
     ],
     "prompt_number": 6
    },
    {
     "cell_type": "markdown",
     "metadata": {},
     "source": [
      "Step 3: Test one car can move"
     ]
    },
    {
     "cell_type": "code",
     "collapsed": false,
     "input": [
      "sim = Simulation(1)\n",
      "sim.run_simulation()"
     ],
     "language": "python",
     "metadata": {},
     "outputs": [],
     "prompt_number": 7
    },
    {
     "cell_type": "code",
     "collapsed": false,
     "input": [
      "print(sim.cars[0].position)\n",
      "sim.set_cars_in_motion()\n",
      "sim.report_position_of_cars()\n",
      "print(sim.cars[0].position)"
     ],
     "language": "python",
     "metadata": {},
     "outputs": [
      {
       "output_type": "stream",
       "stream": "stdout",
       "text": [
        "2\n",
        "6\n"
       ]
      }
     ],
     "prompt_number": 8
    },
    {
     "cell_type": "markdown",
     "metadata": {},
     "source": [
      "Step 4: Test car will stop accelerating at max speed"
     ]
    },
    {
     "cell_type": "code",
     "collapsed": false,
     "input": [
      "sim = Simulation(1)\n",
      "sim.run_simulation()"
     ],
     "language": "python",
     "metadata": {},
     "outputs": [],
     "prompt_number": 9
    },
    {
     "cell_type": "code",
     "collapsed": false,
     "input": [
      "print(sim.cars[0].position)\n",
      "sim.set_cars_in_motion()\n",
      "sim.report_position_of_cars()\n",
      "print(sim.cars[0].position)\n",
      "print(sim.cars[0].speed)"
     ],
     "language": "python",
     "metadata": {},
     "outputs": [
      {
       "output_type": "stream",
       "stream": "stdout",
       "text": [
        "2\n",
        "6\n",
        "4\n"
       ]
      }
     ],
     "prompt_number": 10
    },
    {
     "cell_type": "markdown",
     "metadata": {},
     "source": [
      "Step 5: Test car will go circle back to 1."
     ]
    },
    {
     "cell_type": "code",
     "collapsed": false,
     "input": [
      "sim = Simulation(1)\n",
      "sim.run_simulation()"
     ],
     "language": "python",
     "metadata": {},
     "outputs": [],
     "prompt_number": 11
    },
    {
     "cell_type": "code",
     "collapsed": false,
     "input": [
      "print(sim.cars[0].position)\n",
      "sim.set_cars_in_motion()\n",
      "sim.report_position_of_cars()\n",
      "print(sim.cars[0].position)\n",
      "print(sim.cars[0].speed)"
     ],
     "language": "python",
     "metadata": {},
     "outputs": [
      {
       "output_type": "stream",
       "stream": "stdout",
       "text": [
        "2\n",
        "6\n",
        "4\n"
       ]
      }
     ],
     "prompt_number": 12
    },
    {
     "cell_type": "markdown",
     "metadata": {},
     "source": [
      "Step 6: Test car's speed."
     ]
    },
    {
     "cell_type": "code",
     "collapsed": false,
     "input": [
      "sim = Simulation(1)\n",
      "sim.run_simulation()"
     ],
     "language": "python",
     "metadata": {},
     "outputs": [],
     "prompt_number": 13
    },
    {
     "cell_type": "code",
     "collapsed": false,
     "input": [
      "print(sim.cars[0].position)\n",
      "sim.set_cars_in_motion()\n",
      "sim.report_position_of_cars()\n",
      "print(sim.cars[0].position)\n",
      "print(sim.cars[0].speed)"
     ],
     "language": "python",
     "metadata": {},
     "outputs": [
      {
       "output_type": "stream",
       "stream": "stdout",
       "text": [
        "2\n",
        "6\n",
        "4\n"
       ]
      }
     ],
     "prompt_number": 14
    },
    {
     "cell_type": "markdown",
     "metadata": {},
     "source": [
      "Step 7: Test that a car can slow down."
     ]
    },
    {
     "cell_type": "code",
     "collapsed": false,
     "input": [
      "sim = Simulation(1)\n",
      "sim.run_simulation()"
     ],
     "language": "python",
     "metadata": {},
     "outputs": [],
     "prompt_number": 15
    },
    {
     "cell_type": "code",
     "collapsed": false,
     "input": [
      "print(sim.cars[0].position)\n",
      "sim.set_cars_in_motion()\n",
      "print(sim.cars[0].position)\n",
      "print(sim.cars[0].speed)\n",
      "sim.cars[0].slow_down()\n",
      "print(sim.cars[0].position)\n",
      "print(sim.cars[0].speed)\n",
      "sim.set_cars_in_motion()\n",
      "print(sim.cars[0].speed)"
     ],
     "language": "python",
     "metadata": {},
     "outputs": [
      {
       "output_type": "stream",
       "stream": "stdout",
       "text": [
        "2\n",
        "6\n",
        "4\n",
        "8\n",
        "2\n",
        "4\n"
       ]
      }
     ],
     "prompt_number": 16
    },
    {
     "cell_type": "markdown",
     "metadata": {},
     "source": [
      "Slowing down will stop acceleration. Car will maintain its current speed."
     ]
    },
    {
     "cell_type": "markdown",
     "metadata": {},
     "source": [
      "Step 8: Car awareness"
     ]
    },
    {
     "cell_type": "code",
     "collapsed": false,
     "input": [
      "sim = Simulation(5)\n",
      "sim.run_simulation()"
     ],
     "language": "python",
     "metadata": {},
     "outputs": [],
     "prompt_number": 17
    },
    {
     "cell_type": "code",
     "collapsed": false,
     "input": [
      "sim.avoid_collisions()\n",
      "sim.cars[2].slow_down()\n",
      "print(sim.positions)\n"
     ],
     "language": "python",
     "metadata": {},
     "outputs": [
      {
       "output_type": "stream",
       "stream": "stdout",
       "text": [
        "gotta brake\n",
        "Keep going\n",
        "Keep going\n",
        "Keep going\n",
        "gotta brake\n",
        "Keep going\n",
        "Keep going\n",
        "gotta brake\n",
        "Keep going\n",
        "gotta brake\n",
        "[2, 22, 42, 62, 82]\n"
       ]
      }
     ],
     "prompt_number": 18
    },
    {
     "cell_type": "markdown",
     "metadata": {},
     "source": [
      "Step 9: Run sim for n seconds"
     ]
    },
    {
     "cell_type": "code",
     "collapsed": false,
     "input": [],
     "language": "python",
     "metadata": {},
     "outputs": [],
     "prompt_number": 18
    },
    {
     "cell_type": "code",
     "collapsed": false,
     "input": [],
     "language": "python",
     "metadata": {},
     "outputs": [],
     "prompt_number": 18
    }
   ],
   "metadata": {}
  }
 ]
}