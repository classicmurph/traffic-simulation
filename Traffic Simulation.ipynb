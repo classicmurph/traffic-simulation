{
 "metadata": {
  "name": "",
  "signature": "sha256:884d35a7273b5c33727fd488bd1f40a95eb4bf85fcdf6812428657c47f710795"
 },
 "nbformat": 3,
 "nbformat_minor": 0,
 "worksheets": [
  {
   "cells": [
    {
     "cell_type": "heading",
     "level": 1,
     "metadata": {},
     "source": [
      "Traffic Simulation"
     ]
    },
    {
     "cell_type": "markdown",
     "metadata": {},
     "source": [
      "There are 30 cars on a 1km stretch of straight road. Each car is accelerating to 120km/h. However, they will decrease in speed if they are in bounds of another vehicle. A car class must have an initial speed of zero and a goal speed of 120km/h. 10% of cars (sub-class) will randomly decrease in speed 2m/s, disallowing the cars behind them to continue increasing. There will be a road class that will know the position of all the cars."
     ]
    },
    {
     "cell_type": "code",
     "collapsed": false,
     "input": [
      "import random\n",
      "import numpy as np\n",
      "import statistics as st\n",
      "import matplotlib.pyplot as plt\n",
      "import seaborn as sb\n",
      "\n"
     ],
     "language": "python",
     "metadata": {},
     "outputs": [],
     "prompt_number": 126
    },
    {
     "cell_type": "code",
     "collapsed": false,
     "input": [
      "%matplotlib inline"
     ],
     "language": "python",
     "metadata": {},
     "outputs": [],
     "prompt_number": 80
    },
    {
     "cell_type": "heading",
     "level": 3,
     "metadata": {},
     "source": [
      "Create Car Class"
     ]
    },
    {
     "cell_type": "code",
     "collapsed": false,
     "input": [
      "class Car():\n",
      "    \"\"\"Responsibilities:\n",
      "    - having a starting speed, and a max speed\n",
      "    - having an acceleration rate\n",
      "    \n",
      "    Collaborators:\n",
      "    - receives starting position from Simulation\n",
      "    \"\"\"\n",
      "    \n",
      "    \n",
      "    def __init__(self, position):\n",
      "        \n",
      "        \n",
      "        self.position = position\n",
      "        self.top_speed = 33.33\n",
      "        self.size = 5\n",
      "        self.speed = 0\n",
      "        \n",
      "    def move_car(self):\n",
      "        \"\"\"Car will increase its speed until it reaches top speed\"\"\"\n",
      "        if random.random() <= 0.1:\n",
      "            self.slow_down()\n",
      "        else:\n",
      "            self.speed_up()\n",
      "        \"\"\"tested ok\"\"\"\n",
      "        \n",
      "    def speed_up(self):\n",
      "        if self.position > 1000:\n",
      "            self.position = self.position - 1000\n",
      "        elif self.speed < self.top_speed:\n",
      "            self.speed += 2\n",
      "            self.position = self.position + self.speed\n",
      "        elif self.speed >= self.top_speed:\n",
      "            self.speed = self.top_speed\n",
      "            self.position = self.position + self.speed\n",
      "        return self.position, self.speed\n",
      "        \n",
      "\n",
      "    \n",
      "    def slow_down(self):\n",
      "        \"\"\"Acceleration will randomly decrease for certain cars\"\"\"\n",
      "        if self.speed >= 2:\n",
      "            self.speed -= 2\n",
      "            self.position = self.position + self.speed\n",
      "        else:\n",
      "            self.move_car()\n",
      "        return self.position\n",
      "        \"\"\"Tested ok\"\"\"\n",
      "    \n",
      "        \n",
      "        \n",
      "        \n",
      "        "
     ],
     "language": "python",
     "metadata": {},
     "outputs": [],
     "prompt_number": 81
    },
    {
     "cell_type": "code",
     "collapsed": false,
     "input": [
      "class Simulation():\n",
      "    \"\"\"\n",
      "    Responsibilities:\n",
      "    - generating cars\n",
      "    - placing cars\n",
      "    - setting cars in motion\n",
      "    - reporting the speed of all cars\n",
      "    - reporting the position of all cars\n",
      "    \n",
      "    Collaborators: Car\n",
      "    \"\"\"\n",
      "    \n",
      "    def __init__(self, num, seconds):\n",
      "        self.seconds = seconds\n",
      "        self.num_cars = num\n",
      "        self.cars = []\n",
      "        self.positions = []\n",
      "        self.speeds = []\n",
      "        self.tolerance = 40\n",
      "\n",
      "        \n",
      "        \n",
      "    def generate_cars(self):\n",
      "        \"\"\"Will place 30 cars on the road at a distance of 20m\"\"\"\n",
      "        position = -20\n",
      "        for _ in range(self.num_cars):\n",
      "            position += 33.33\n",
      "            self.cars.append(Car(int(position)))\n",
      "         \n",
      "\n",
      "    \n",
      "    def report_position_of_cars(self):\n",
      "        \"\"\"populate list with position of all cars\"\"\"\n",
      "        positions = []\n",
      "        for car in self.cars:\n",
      "            positions.append(car.position)\n",
      "        self.positions.append(positions)\n",
      "        \"\"\"tested ok\"\"\"\n",
      "    \n",
      "    \n",
      "    def set_cars_in_motion(self):\n",
      "        \"\"\"calls move function in car class\"\"\"\n",
      "        for car in self.cars:\n",
      "            car.move_car()\n",
      "        return car.position \n",
      "        \"\"\"tested ok\"\"\"\n",
      "            \n",
      "    \n",
      "    \n",
      "    def run_simulation(self):\n",
      "        self.cars = []\n",
      "        self.positions = []\n",
      "        self.speeds = []\n",
      "        self.generate_cars()\n",
      "        for _ in range(self.seconds):\n",
      "            self.avoid_collisions()\n",
      "            self.set_cars_in_motion()\n",
      "            self.report_position_of_cars()\n",
      "            \n",
      "            self.report_speeds()\n",
      "        \n",
      "    \n",
      "    def avoid_collisions(self):\n",
      "        rotated = self.cars[-1:] + self.cars[:-1] \n",
      "        for car1, car2 in zip(rotated, self.cars):\n",
      "            pos1 = car1.position\n",
      "            pos2 = car2.position\n",
      "            if pos1 > pos2:\n",
      "                pos2 += 1000\n",
      "                \n",
      "            if  pos1 + self.tolerance >= pos2:    \n",
      "                car1.speed = pos2 - pos1 - 2\n",
      "\n",
      "        \"\"\"tested ok\"\"\" \n",
      "\n",
      "    \n",
      "    def report_speeds(self):\n",
      "        \"\"\"get some data from sim\"\"\"\n",
      "        speeds = []\n",
      "        for car in self.cars:\n",
      "            speeds.append(car.speed)\n",
      "        self.speeds.append(speeds)\n",
      "        return self.seconds, self.speeds\n",
      "    "
     ],
     "language": "python",
     "metadata": {},
     "outputs": [],
     "prompt_number": 109
    },
    {
     "cell_type": "markdown",
     "metadata": {},
     "source": [
      "Step 1: Test car generation"
     ]
    },
    {
     "cell_type": "code",
     "collapsed": false,
     "input": [
      "simulation = Simulation(15, 1)\n",
      "simulation.run_simulation(1)\n",
      "print(len(simulation.cars))\n"
     ],
     "language": "python",
     "metadata": {},
     "outputs": [
      {
       "ename": "TypeError",
       "evalue": "run_simulation() takes 1 positional argument but 2 were given",
       "output_type": "pyerr",
       "traceback": [
        "\u001b[0;31m---------------------------------------------------------------------------\u001b[0m\n\u001b[0;31mTypeError\u001b[0m                                 Traceback (most recent call last)",
        "\u001b[0;32m<ipython-input-83-4072e6490982>\u001b[0m in \u001b[0;36m<module>\u001b[0;34m()\u001b[0m\n\u001b[1;32m      1\u001b[0m \u001b[0msimulation\u001b[0m \u001b[0;34m=\u001b[0m \u001b[0mSimulation\u001b[0m\u001b[0;34m(\u001b[0m\u001b[0;36m15\u001b[0m\u001b[0;34m,\u001b[0m \u001b[0;36m1\u001b[0m\u001b[0;34m)\u001b[0m\u001b[0;34m\u001b[0m\u001b[0m\n\u001b[0;32m----> 2\u001b[0;31m \u001b[0msimulation\u001b[0m\u001b[0;34m.\u001b[0m\u001b[0mrun_simulation\u001b[0m\u001b[0;34m(\u001b[0m\u001b[0;36m1\u001b[0m\u001b[0;34m)\u001b[0m\u001b[0;34m\u001b[0m\u001b[0m\n\u001b[0m\u001b[1;32m      3\u001b[0m \u001b[0mprint\u001b[0m\u001b[0;34m(\u001b[0m\u001b[0mlen\u001b[0m\u001b[0;34m(\u001b[0m\u001b[0msimulation\u001b[0m\u001b[0;34m.\u001b[0m\u001b[0mcars\u001b[0m\u001b[0;34m)\u001b[0m\u001b[0;34m)\u001b[0m\u001b[0;34m\u001b[0m\u001b[0m\n",
        "\u001b[0;31mTypeError\u001b[0m: run_simulation() takes 1 positional argument but 2 were given"
       ]
      }
     ],
     "prompt_number": 83
    },
    {
     "cell_type": "markdown",
     "metadata": {},
     "source": [
      "Step 2: Test Cars have a starting position"
     ]
    },
    {
     "cell_type": "code",
     "collapsed": false,
     "input": [
      "simulation.report_position_of_cars()\n",
      "print(len(simulation.positions))"
     ],
     "language": "python",
     "metadata": {},
     "outputs": []
    },
    {
     "cell_type": "markdown",
     "metadata": {},
     "source": [
      "Step 3: Test one car can move"
     ]
    },
    {
     "cell_type": "code",
     "collapsed": false,
     "input": [
      "sim = Simulation(1, 1)\n",
      "sim.run_simulation(1)"
     ],
     "language": "python",
     "metadata": {},
     "outputs": []
    },
    {
     "cell_type": "code",
     "collapsed": false,
     "input": [
      "print(sim.cars[0].position)\n",
      "sim.set_cars_in_motion()\n",
      "sim.report_position_of_cars()\n",
      "print(sim.cars[0].position)"
     ],
     "language": "python",
     "metadata": {},
     "outputs": []
    },
    {
     "cell_type": "markdown",
     "metadata": {},
     "source": [
      "Step 4: Test car will stop accelerating at max speed"
     ]
    },
    {
     "cell_type": "code",
     "collapsed": false,
     "input": [
      "sim = Simulation(1, 1)\n",
      "sim.run_simulation(1)"
     ],
     "language": "python",
     "metadata": {},
     "outputs": []
    },
    {
     "cell_type": "code",
     "collapsed": false,
     "input": [
      "print(sim.cars[0].position)\n",
      "sim.set_cars_in_motion()\n",
      "sim.report_position_of_cars()\n",
      "print(sim.cars[0].position)\n",
      "print(sim.cars[0].speed)"
     ],
     "language": "python",
     "metadata": {},
     "outputs": []
    },
    {
     "cell_type": "markdown",
     "metadata": {},
     "source": [
      "Step 5: Test car will go circle back to 1."
     ]
    },
    {
     "cell_type": "code",
     "collapsed": false,
     "input": [
      "sim = Simulation(1, 1)\n",
      "sim.run_simulation(1)"
     ],
     "language": "python",
     "metadata": {},
     "outputs": []
    },
    {
     "cell_type": "code",
     "collapsed": false,
     "input": [
      "print(sim.cars[0].position)\n",
      "sim.set_cars_in_motion()\n",
      "sim.report_position_of_cars()\n",
      "print(sim.cars[0].position)\n",
      "print(sim.cars[0].speed)"
     ],
     "language": "python",
     "metadata": {},
     "outputs": []
    },
    {
     "cell_type": "markdown",
     "metadata": {},
     "source": [
      "Step 6: Test car's speed."
     ]
    },
    {
     "cell_type": "code",
     "collapsed": false,
     "input": [
      "sim = Simulation(1, 1)\n",
      "sim.run_simulation(1)"
     ],
     "language": "python",
     "metadata": {},
     "outputs": []
    },
    {
     "cell_type": "code",
     "collapsed": false,
     "input": [
      "print(sim.cars[0].position)\n",
      "sim.set_cars_in_motion()\n",
      "sim.report_position_of_cars()\n",
      "print(sim.cars[0].position)\n",
      "print(sim.cars[0].speed)"
     ],
     "language": "python",
     "metadata": {},
     "outputs": []
    },
    {
     "cell_type": "markdown",
     "metadata": {},
     "source": [
      "Step 7: Test that a car can slow down."
     ]
    },
    {
     "cell_type": "code",
     "collapsed": false,
     "input": [
      "sim = Simulation(1, 1)\n",
      "sim.run_simulation(1)"
     ],
     "language": "python",
     "metadata": {},
     "outputs": []
    },
    {
     "cell_type": "code",
     "collapsed": false,
     "input": [
      "print(sim.cars[0].position)\n",
      "sim.set_cars_in_motion()\n",
      "print(sim.cars[0].position)\n",
      "print(sim.cars[0].speed)\n",
      "sim.cars[0].slow_down()\n",
      "print(sim.cars[0].position)\n",
      "print(sim.cars[0].speed)\n",
      "sim.set_cars_in_motion()\n",
      "print(sim.cars[0].speed)"
     ],
     "language": "python",
     "metadata": {},
     "outputs": []
    },
    {
     "cell_type": "markdown",
     "metadata": {},
     "source": [
      "Slowing down will stop acceleration. Car will maintain its current speed."
     ]
    },
    {
     "cell_type": "markdown",
     "metadata": {},
     "source": [
      "Step 8: Car awareness"
     ]
    },
    {
     "cell_type": "code",
     "collapsed": false,
     "input": [
      "sim = Simulation(5, 5)\n",
      "sim.run_simulation()"
     ],
     "language": "python",
     "metadata": {},
     "outputs": [],
     "prompt_number": 84
    },
    {
     "cell_type": "code",
     "collapsed": false,
     "input": [
      "sim.avoid_collisions()\n",
      "# sim.cars[4].slow_down()\n",
      "print(sim.positions)\n"
     ],
     "language": "python",
     "metadata": {},
     "outputs": [
      {
       "output_type": "stream",
       "stream": "stdout",
       "text": [
        "[[15.329999999999998, 48.66, 81.99, 115.32, 152.64999999999998], [19.33, 52.66, 81.99, 119.32, 158.64999999999998], [25.33, 58.66, 83.99, 125.32, 164.64999999999998], [33.33, 66.66, 87.99, 133.32, 170.64999999999998], [43.33, 80.66, 93.99, 143.32, 176.64999999999998]]\n"
       ]
      }
     ],
     "prompt_number": 85
    },
    {
     "cell_type": "markdown",
     "metadata": {},
     "source": [
      "Step 9: Run sim for n seconds"
     ]
    },
    {
     "cell_type": "code",
     "collapsed": false,
     "input": [
      "sim = Simulation(20, 5)\n",
      "sim.run_simulation()\n",
      "\n",
      "\n"
     ],
     "language": "python",
     "metadata": {},
     "outputs": [],
     "prompt_number": 90
    },
    {
     "cell_type": "markdown",
     "metadata": {},
     "source": [
      "This runs the sim with 20 cars for twenty seconds starting with second 1."
     ]
    },
    {
     "cell_type": "markdown",
     "metadata": {},
     "source": [
      "Step 10: Run trial with 30 cars for 120 seconds."
     ]
    },
    {
     "cell_type": "code",
     "collapsed": false,
     "input": [
      "sim = Simulation(30, 120)\n",
      "for _ in range(1000):\n",
      "    sim.run_simulation()"
     ],
     "language": "python",
     "metadata": {},
     "outputs": [],
     "prompt_number": 132
    },
    {
     "cell_type": "markdown",
     "metadata": {},
     "source": [
      "All cars reach top speed if they don't check for collisions. When they do the speed is almost negative for them all. Something is amiss."
     ]
    },
    {
     "cell_type": "code",
     "collapsed": false,
     "input": [
      "print(sim.positions)"
     ],
     "language": "python",
     "metadata": {},
     "outputs": [
      {
       "output_type": "stream",
       "stream": "stdout",
       "text": [
        "[[46, 79, 113, 146, 179, 213, 242, 279, 313, 315], [79, 113, 146, 179, 213, 242, 275.33, 313, 315, 319], [113, 146, 179, 213, 242, 275.33, 308.65999999999997, 315, 319, 325], [146, 179, 213, 238, 275.33, 308.65999999999997, 315.0, 319, 325, 333], [179, 213, 238, 271.33, 304.65999999999997, 315.0, 319.0, 325, 333, 343], [213, 234, 271.33, 304.65999999999997, 315.0, 319.0, 325.0, 333, 343, 355], [234, 267.33, 304.65999999999997, 315.0, 315.0, 325.0, 333.0, 343, 355, 369], [267.33, 300.65999999999997, 315.0, 315.0, 325.0, 333.0, 343.0, 355, 369, 385], [300.65999999999997, 315.0, 315.0, 325.0, 333.0, 339.0, 355.0, 369, 385, 403], [315.0, 315.0, 325.0, 333.0, 339.0, 355.0, 369.0, 385, 403, 423], [315.0, 325.0, 333.0, 339.0, 355.0, 369.0, 381.0, 403, 423, 441], [325.0, 333.0, 339.0, 355.0, 369.0, 381.0, 403.0, 423, 441, 461], [329.0, 339.0, 355.0, 369.0, 381.0, 403.0, 423.0, 441, 461, 483], [339.0, 355.0, 365.0, 377.0, 399.0, 423.0, 441.0, 461, 483, 507], [355.0, 365.0, 377.0, 399.0, 423.0, 441.0, 461.0, 483, 507, 533], [361.0, 377.0, 399.0, 423.0, 441.0, 461.0, 483.0, 507, 533, 561], [377.0, 399.0, 423.0, 441.0, 457.0, 483.0, 507.0, 533, 561, 591], [399.0, 423.0, 441.0, 457.0, 483.0, 507.0, 533.0, 561, 591, 623], [423.0, 441.0, 457.0, 483.0, 507.0, 533.0, 561.0, 591, 623, 657], [441.0, 457.0, 483.0, 503.0, 533.0, 561.0, 591.0, 623, 657, 690.33], [457.0, 483.0, 503.0, 533.0, 561.0, 591.0, 619.0, 657, 690.33, 723.6600000000001], [483.0, 503.0, 533.0, 561.0, 587.0, 619.0, 652.33, 690.33, 723.6600000000001, 756.9900000000001], [503.0, 533.0, 561.0, 587.0, 619.0, 652.33, 685.6600000000001, 723.6600000000001, 752.9900000000001, 790.3200000000002], [533.0, 561.0, 587.0, 619.0, 652.33, 685.6600000000001, 718.9900000000001, 752.9900000000001, 786.3200000000002, 823.6500000000002], [561.0, 587.0, 619.0, 652.33, 685.6600000000001, 718.9900000000001, 752.9900000000001, 786.3200000000002, 819.6500000000002, 856.9800000000002], [583.0, 619.0, 652.33, 681.6600000000001, 718.9900000000001, 752.9900000000001, 786.3200000000002, 819.6500000000002, 852.9800000000002, 888.3100000000003], [616.33, 648.33, 681.6600000000001, 714.9900000000001, 752.9900000000001, 786.3200000000002, 819.6500000000002, 852.9800000000002, 886.3100000000003, 921.6400000000003], [648.33, 681.6600000000001, 714.9900000000001, 748.3200000000002, 786.3200000000002, 819.6500000000002, 852.9800000000002, 886.3100000000003, 919.6400000000003, 954.9700000000004], [681.6600000000001, 714.9900000000001, 748.3200000000002, 781.6500000000002, 819.6500000000002, 852.9800000000002, 882.3100000000003, 919.6400000000003, 952.9700000000004, 988.3000000000004], [714.9900000000001, 748.3200000000002, 781.6500000000002, 814.9800000000002, 852.9800000000002, 882.3100000000003, 915.6400000000003, 952.9700000000004, 984.3000000000004, 1021.6300000000005]]\n"
       ]
      }
     ],
     "prompt_number": 111
    },
    {
     "cell_type": "code",
     "collapsed": false,
     "input": [
      "sim.speeds"
     ],
     "language": "python",
     "metadata": {},
     "outputs": [
      {
       "metadata": {},
       "output_type": "pyout",
       "prompt_number": 112,
       "text": [
        "[[33, 33, 34, 33, 33, 34, 29, 33, 34, 2],\n",
        " [33, 34, 33, 33, 34, 29, 33.33, 34, 2, 4],\n",
        " [34, 33, 33, 34, 29, 33.329999999999984, 33.33, 2, 4, 6],\n",
        " [33,\n",
        "  33,\n",
        "  34,\n",
        "  25,\n",
        "  33.329999999999984,\n",
        "  33.329999999999984,\n",
        "  6.340000000000032,\n",
        "  4,\n",
        "  6,\n",
        "  8],\n",
        " [33, 34, 25, 33.33, 29.329999999999984, 6.340000000000032, 4.0, 6, 8, 10],\n",
        " [34,\n",
        "  21,\n",
        "  33.329999999999984,\n",
        "  33.329999999999984,\n",
        "  10.340000000000032,\n",
        "  4.0,\n",
        "  6.0,\n",
        "  8,\n",
        "  10,\n",
        "  12],\n",
        " [21,\n",
        "  33.33,\n",
        "  33.329999999999984,\n",
        "  10.340000000000032,\n",
        "  0.0,\n",
        "  6.0,\n",
        "  8.0,\n",
        "  10,\n",
        "  12,\n",
        "  14],\n",
        " [33.329999999999984,\n",
        "  33.33,\n",
        "  10.340000000000032,\n",
        "  0.0,\n",
        "  10.0,\n",
        "  8.0,\n",
        "  10.0,\n",
        "  12,\n",
        "  14,\n",
        "  16],\n",
        " [33.329999999999984,\n",
        "  14.340000000000032,\n",
        "  0.0,\n",
        "  10.0,\n",
        "  8.0,\n",
        "  6.0,\n",
        "  12.0,\n",
        "  14,\n",
        "  16,\n",
        "  18],\n",
        " [14.340000000000032, 0.0, 10.0, 8.0, 6.0, 16.0, 14.0, 16, 18, 20],\n",
        " [0.0, 10.0, 8.0, 6.0, 16.0, 14.0, 12.0, 18, 20, 18],\n",
        " [10.0, 8.0, 6.0, 16.0, 14.0, 12.0, 22.0, 20, 18, 20],\n",
        " [4.0, 6.0, 16.0, 14.0, 12.0, 22.0, 20.0, 18, 20, 22],\n",
        " [10.0, 16.0, 10.0, 8.0, 18.0, 20.0, 18.0, 20, 22, 24],\n",
        " [16.0, 10.0, 12.0, 22.0, 24.0, 18.0, 20.0, 22, 24, 26],\n",
        " [6.0, 12.0, 22.0, 24.0, 18.0, 20.0, 22.0, 24, 26, 28],\n",
        " [16.0, 22.0, 24.0, 18.0, 16.0, 22.0, 24.0, 26, 28, 30],\n",
        " [22.0, 24.0, 18.0, 16.0, 26.0, 24.0, 26.0, 28, 30, 32],\n",
        " [24.0, 18.0, 16.0, 26.0, 24.0, 26.0, 28.0, 30, 32, 34],\n",
        " [18.0, 16.0, 26.0, 20.0, 26.0, 28.0, 30.0, 32, 34, 33.33],\n",
        " [16.0, 26.0, 20.0, 30.0, 28.0, 30.0, 28.0, 34, 33.33000000000004, 33.33],\n",
        " [26.0,\n",
        "  20.0,\n",
        "  30.0,\n",
        "  28.0,\n",
        "  26.0,\n",
        "  28.0,\n",
        "  33.33,\n",
        "  33.33000000000004,\n",
        "  33.33000000000004,\n",
        "  33.33],\n",
        " [20.0,\n",
        "  30.0,\n",
        "  28.0,\n",
        "  26.0,\n",
        "  32.0,\n",
        "  33.33000000000004,\n",
        "  33.33,\n",
        "  33.33000000000004,\n",
        "  29.33000000000004,\n",
        "  33.33],\n",
        " [30.0,\n",
        "  28.0,\n",
        "  26.0,\n",
        "  32.0,\n",
        "  33.33000000000004,\n",
        "  33.33000000000004,\n",
        "  33.33,\n",
        "  29.33000000000004,\n",
        "  33.33,\n",
        "  33.33],\n",
        " [28.0,\n",
        "  26.0,\n",
        "  32.0,\n",
        "  33.33000000000004,\n",
        "  33.33000000000004,\n",
        "  33.33000000000004,\n",
        "  34.0,\n",
        "  33.33000000000004,\n",
        "  33.33,\n",
        "  33.33],\n",
        " [22.0,\n",
        "  32.0,\n",
        "  33.33000000000004,\n",
        "  29.33000000000004,\n",
        "  33.33000000000004,\n",
        "  34.0,\n",
        "  33.33000000000004,\n",
        "  33.33000000000004,\n",
        "  33.33000000000004,\n",
        "  31.33],\n",
        " [33.33,\n",
        "  29.33000000000004,\n",
        "  29.33000000000004,\n",
        "  33.33,\n",
        "  34.0,\n",
        "  33.33000000000004,\n",
        "  33.33000000000004,\n",
        "  33.33000000000004,\n",
        "  33.33,\n",
        "  33.33],\n",
        " [32.0,\n",
        "  33.33000000000004,\n",
        "  33.33000000000004,\n",
        "  33.33,\n",
        "  33.33000000000004,\n",
        "  33.33000000000004,\n",
        "  33.33000000000004,\n",
        "  33.33000000000004,\n",
        "  33.33,\n",
        "  33.33],\n",
        " [33.33000000000004,\n",
        "  33.33000000000004,\n",
        "  33.33000000000004,\n",
        "  33.33,\n",
        "  33.33000000000004,\n",
        "  33.33000000000004,\n",
        "  29.33000000000004,\n",
        "  33.33000000000004,\n",
        "  33.33,\n",
        "  33.33],\n",
        " [33.33000000000004,\n",
        "  33.33000000000004,\n",
        "  33.33000000000004,\n",
        "  33.33,\n",
        "  33.33000000000004,\n",
        "  29.33000000000004,\n",
        "  33.33,\n",
        "  33.33000000000004,\n",
        "  31.33000000000004,\n",
        "  33.33]]"
       ]
      }
     ],
     "prompt_number": 112
    },
    {
     "cell_type": "code",
     "collapsed": false,
     "input": [
      "pos = np.array(sim.positions)\n",
      "# z = np.zeros(len(sim.positions))\n",
      "for pos in sim.positions:\n",
      "    plt.scatter(pos, range(len(pos)))\n",
      "\n",
      "plt.show()"
     ],
     "language": "python",
     "metadata": {},
     "outputs": [
      {
       "metadata": {},
       "output_type": "display_data",
       "png": "[encoded data removed]",
       "text": [
        "<matplotlib.figure.Figure at 0x10e70d668>"
       ]
      }
     ],
     "prompt_number": 133
    },
    {
     "cell_type": "code",
     "collapsed": false,
     "input": [
      "plt.hist(sim.speeds, 30)\n",
      "plt.show()"
     ],
     "language": "python",
     "metadata": {},
     "outputs": [
      {
       "metadata": {},
       "output_type": "display_data",
       "png": "[encoded data removed]",
       "text": [
        "<matplotlib.figure.Figure at 0x10db14518>"
       ]
      }
     ],
     "prompt_number": 119
    }
   ],
   "metadata": {}
  }
 ]
}