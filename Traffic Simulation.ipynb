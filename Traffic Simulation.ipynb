{
 "metadata": {
  "name": "",
  "signature": "sha256:b25a1bf863c261c150e85e287adbd522bd809480a936f177fb1cc1cf229cacae"
 },
 "nbformat": 3,
 "nbformat_minor": 0,
 "worksheets": [
  {
   "cells": [
    {
     "cell_type": "heading",
     "level": 1,
     "metadata": {},
     "source": [
      "Traffic Simulation"
     ]
    },
    {
     "cell_type": "markdown",
     "metadata": {},
     "source": [
      "There are 30 cars on a 1km stretch of straight road. Each car is accelerating to 120km/h. However, they will decrease in speed if they are in bounds of another vehicle. A car class must have an initial speed of zero and a goal speed of 120km/h. 10% of cars (sub-class) will randomly decrease in speed 2m/s, disallowing the cars behind them to continue increasing. There will be a road class that will know the position of all the cars."
     ]
    },
    {
     "cell_type": "code",
     "collapsed": false,
     "input": [
      "import random\n",
      "import numpy as np\n",
      "import statistics as st\n",
      "import matplotlib.pyplot as plt\n",
      "import seaborn as sb\n",
      "from collections import deque as d\n",
      "from itertools import combinations\n"
     ],
     "language": "python",
     "metadata": {},
     "outputs": [],
     "prompt_number": 1
    },
    {
     "cell_type": "code",
     "collapsed": false,
     "input": [
      "%matplotlib inline"
     ],
     "language": "python",
     "metadata": {},
     "outputs": [],
     "prompt_number": 2
    },
    {
     "cell_type": "heading",
     "level": 3,
     "metadata": {},
     "source": [
      "Create Car Class"
     ]
    },
    {
     "cell_type": "code",
     "collapsed": false,
     "input": [
      "class Car():\n",
      "    \"\"\"Responsibilities:\n",
      "    - having a starting speed, and a max speed\n",
      "    - having an acceleration rate\n",
      "    \n",
      "    Collaborators:\n",
      "    - receives starting position from Simulation\n",
      "    \"\"\"\n",
      "    \n",
      "    \n",
      "    def __init__(self, position):\n",
      "        \n",
      "        \n",
      "        self.position = position\n",
      "        self.top_speed = 33.33\n",
      "        self.size = 5\n",
      "        self.speed = 0\n",
      "        \n",
      "    def move_car(self):\n",
      "        \"\"\"Car will increase its speed until it reaches top speed\"\"\"\n",
      "        if random.random() <= 0.1:\n",
      "            self.slow_down()\n",
      "        else:\n",
      "            self.speed_up()\n",
      "        \"\"\"tested ok\"\"\"\n",
      "        \n",
      "    def speed_up(self):\n",
      "        if self.position > 1000:\n",
      "            self.position = self.position - 1000\n",
      "        elif self.speed < self.top_speed:\n",
      "            self.speed += 2\n",
      "            self.position = self.position + self.speed\n",
      "        elif self.speed >= self.top_speed:\n",
      "            self.speed = self.top_speed\n",
      "            self.position = self.position + self.speed\n",
      "        return self.position, self.speed\n",
      "        \n",
      "\n",
      "    \n",
      "    def slow_down(self):\n",
      "        \"\"\"Acceleration will randomly decrease for certain cars\"\"\"\n",
      "        if self.speed >= 0:\n",
      "            self.speed -= 2\n",
      "            self.position = self.position + self.speed\n",
      "        else:\n",
      "            self.move_car()\n",
      "        return self.position\n",
      "        \"\"\"Tested ok\"\"\"\n",
      "    \n",
      "        \n",
      "        \n",
      "        \n",
      "        "
     ],
     "language": "python",
     "metadata": {},
     "outputs": [],
     "prompt_number": 3
    },
    {
     "cell_type": "code",
     "collapsed": false,
     "input": [
      "class Simulation():\n",
      "    \"\"\"\n",
      "    Responsibilities:\n",
      "    - generating cars\n",
      "    - placing cars\n",
      "    - setting cars in motion\n",
      "    - reporting the speed of all cars\n",
      "    - reporting the position of all cars\n",
      "    \n",
      "    Collaborators: Car\n",
      "    \"\"\"\n",
      "    \n",
      "    def __init__(self, num, seconds):\n",
      "        self.seconds = seconds\n",
      "        self.num_cars = num\n",
      "        self.cars = []\n",
      "        self.positions = []\n",
      "        self.speeds = []\n",
      "        self.tolerance = 25\n",
      "\n",
      "        \n",
      "        \n",
      "    def generate_cars(self):\n",
      "        \"\"\"Will place 30 cars on the road at a distance of 20m\"\"\"\n",
      "        position = -20\n",
      "        for _ in range(self.num_cars):\n",
      "            position += 33.33\n",
      "            self.cars.append(Car(position))\n",
      "        return self.cars    \n",
      "\n",
      "    \n",
      "    def report_position_of_cars(self):\n",
      "        \"\"\"populate list with position of all cars\"\"\"\n",
      "        self.positions = []\n",
      "        for car in self.cars:\n",
      "            self.positions.append(car.position)\n",
      "        return self.positions\n",
      "        \"\"\"tested ok\"\"\"\n",
      "    \n",
      "    \n",
      "    def set_cars_in_motion(self):\n",
      "        \"\"\"calls move function in car class\"\"\"\n",
      "        for car in self.cars:\n",
      "            car.move_car()\n",
      "        return car.position \n",
      "        \"\"\"tested ok\"\"\"\n",
      "            \n",
      "    \n",
      "    \n",
      "    def run_simulation(self, trials):\n",
      "        for _ in range(trials):\n",
      "            self.generate_cars()\n",
      "            self.set_cars_in_motion()\n",
      "            self.report_position_of_cars()\n",
      "            self.report()\n",
      "            self.seconds += 1\n",
      "        \n",
      "    \n",
      "    def avoid_collisions(self):\n",
      "        for car1, car2 in combinations(sim.cars, 2):\n",
      "            if car1.position + self.tolerance >= car2.position:\n",
      "                car1.slow_down()\n",
      "            else:\n",
      "                continue\n",
      "        \"\"\"tested ok\"\"\" \n",
      "\n",
      "    \n",
      "    def report(self):\n",
      "        \"\"\"get some data from sim\"\"\"\n",
      "        for car in self.cars:\n",
      "            self.speeds.append(car.speed)\n",
      "        print(self.seconds, self.speeds)\n",
      "    "
     ],
     "language": "python",
     "metadata": {},
     "outputs": [],
     "prompt_number": 4
    },
    {
     "cell_type": "markdown",
     "metadata": {},
     "source": [
      "Step 1: Test car generation"
     ]
    },
    {
     "cell_type": "code",
     "collapsed": false,
     "input": [
      "simulation = Simulation(15, 1)\n",
      "simulation.run_simulation(1)\n",
      "print(len(simulation.cars))\n"
     ],
     "language": "python",
     "metadata": {},
     "outputs": [
      {
       "output_type": "stream",
       "stream": "stdout",
       "text": [
        "1 [2, 2, 2, -2, 2, 2, 2, 2, 2, 2, 2, 2, 2, 2, 2]\n",
        "15\n"
       ]
      }
     ],
     "prompt_number": 5
    },
    {
     "cell_type": "markdown",
     "metadata": {},
     "source": [
      "Step 2: Test Cars have a starting position"
     ]
    },
    {
     "cell_type": "code",
     "collapsed": false,
     "input": [
      "simulation.report_position_of_cars()\n",
      "print(len(simulation.positions))"
     ],
     "language": "python",
     "metadata": {},
     "outputs": [
      {
       "output_type": "stream",
       "stream": "stdout",
       "text": [
        "15\n"
       ]
      }
     ],
     "prompt_number": 6
    },
    {
     "cell_type": "markdown",
     "metadata": {},
     "source": [
      "Step 3: Test one car can move"
     ]
    },
    {
     "cell_type": "code",
     "collapsed": false,
     "input": [
      "sim = Simulation(1, 1)\n",
      "sim.run_simulation(1)"
     ],
     "language": "python",
     "metadata": {},
     "outputs": [
      {
       "output_type": "stream",
       "stream": "stdout",
       "text": [
        "1 [2]\n"
       ]
      }
     ],
     "prompt_number": 7
    },
    {
     "cell_type": "code",
     "collapsed": false,
     "input": [
      "print(sim.cars[0].position)\n",
      "sim.set_cars_in_motion()\n",
      "sim.report_position_of_cars()\n",
      "print(sim.cars[0].position)"
     ],
     "language": "python",
     "metadata": {},
     "outputs": [
      {
       "output_type": "stream",
       "stream": "stdout",
       "text": [
        "15.329999999999998\n",
        "19.33\n"
       ]
      }
     ],
     "prompt_number": 8
    },
    {
     "cell_type": "markdown",
     "metadata": {},
     "source": [
      "Step 4: Test car will stop accelerating at max speed"
     ]
    },
    {
     "cell_type": "code",
     "collapsed": false,
     "input": [
      "sim = Simulation(1, 1)\n",
      "sim.run_simulation(1)"
     ],
     "language": "python",
     "metadata": {},
     "outputs": [
      {
       "output_type": "stream",
       "stream": "stdout",
       "text": [
        "1 [2]\n"
       ]
      }
     ],
     "prompt_number": 9
    },
    {
     "cell_type": "code",
     "collapsed": false,
     "input": [
      "print(sim.cars[0].position)\n",
      "sim.set_cars_in_motion()\n",
      "sim.report_position_of_cars()\n",
      "print(sim.cars[0].position)\n",
      "print(sim.cars[0].speed)"
     ],
     "language": "python",
     "metadata": {},
     "outputs": [
      {
       "output_type": "stream",
       "stream": "stdout",
       "text": [
        "15.329999999999998\n",
        "15.329999999999998\n",
        "0\n"
       ]
      }
     ],
     "prompt_number": 10
    },
    {
     "cell_type": "markdown",
     "metadata": {},
     "source": [
      "Step 5: Test car will go circle back to 1."
     ]
    },
    {
     "cell_type": "code",
     "collapsed": false,
     "input": [
      "sim = Simulation(1, 1)\n",
      "sim.run_simulation(1)"
     ],
     "language": "python",
     "metadata": {},
     "outputs": [
      {
       "output_type": "stream",
       "stream": "stdout",
       "text": [
        "1 [2]\n"
       ]
      }
     ],
     "prompt_number": 11
    },
    {
     "cell_type": "code",
     "collapsed": false,
     "input": [
      "print(sim.cars[0].position)\n",
      "sim.set_cars_in_motion()\n",
      "sim.report_position_of_cars()\n",
      "print(sim.cars[0].position)\n",
      "print(sim.cars[0].speed)"
     ],
     "language": "python",
     "metadata": {},
     "outputs": [
      {
       "output_type": "stream",
       "stream": "stdout",
       "text": [
        "15.329999999999998\n",
        "19.33\n",
        "4\n"
       ]
      }
     ],
     "prompt_number": 12
    },
    {
     "cell_type": "markdown",
     "metadata": {},
     "source": [
      "Step 6: Test car's speed."
     ]
    },
    {
     "cell_type": "code",
     "collapsed": false,
     "input": [
      "sim = Simulation(1)\n",
      "sim.run_simulation()"
     ],
     "language": "python",
     "metadata": {},
     "outputs": [
      {
       "ename": "TypeError",
       "evalue": "__init__() missing 1 required positional argument: 'seconds'",
       "output_type": "pyerr",
       "traceback": [
        "\u001b[0;31m---------------------------------------------------------------------------\u001b[0m\n\u001b[0;31mTypeError\u001b[0m                                 Traceback (most recent call last)",
        "\u001b[0;32m<ipython-input-13-fa3daa8897e4>\u001b[0m in \u001b[0;36m<module>\u001b[0;34m()\u001b[0m\n\u001b[0;32m----> 1\u001b[0;31m \u001b[0msim\u001b[0m \u001b[0;34m=\u001b[0m \u001b[0mSimulation\u001b[0m\u001b[0;34m(\u001b[0m\u001b[0;36m1\u001b[0m\u001b[0;34m)\u001b[0m\u001b[0;34m\u001b[0m\u001b[0m\n\u001b[0m\u001b[1;32m      2\u001b[0m \u001b[0msim\u001b[0m\u001b[0;34m.\u001b[0m\u001b[0mrun_simulation\u001b[0m\u001b[0;34m(\u001b[0m\u001b[0;34m)\u001b[0m\u001b[0;34m\u001b[0m\u001b[0m\n",
        "\u001b[0;31mTypeError\u001b[0m: __init__() missing 1 required positional argument: 'seconds'"
       ]
      }
     ],
     "prompt_number": 13
    },
    {
     "cell_type": "code",
     "collapsed": false,
     "input": [
      "print(sim.cars[0].position)\n",
      "sim.set_cars_in_motion()\n",
      "sim.report_position_of_cars()\n",
      "print(sim.cars[0].position)\n",
      "print(sim.cars[0].speed)"
     ],
     "language": "python",
     "metadata": {},
     "outputs": []
    },
    {
     "cell_type": "markdown",
     "metadata": {},
     "source": [
      "Step 7: Test that a car can slow down."
     ]
    },
    {
     "cell_type": "code",
     "collapsed": false,
     "input": [
      "sim = Simulation(1, 1)\n",
      "sim.run_simulation(1)"
     ],
     "language": "python",
     "metadata": {},
     "outputs": []
    },
    {
     "cell_type": "code",
     "collapsed": false,
     "input": [
      "print(sim.cars[0].position)\n",
      "sim.set_cars_in_motion()\n",
      "print(sim.cars[0].position)\n",
      "print(sim.cars[0].speed)\n",
      "sim.cars[0].slow_down()\n",
      "print(sim.cars[0].position)\n",
      "print(sim.cars[0].speed)\n",
      "sim.set_cars_in_motion()\n",
      "print(sim.cars[0].speed)"
     ],
     "language": "python",
     "metadata": {},
     "outputs": []
    },
    {
     "cell_type": "markdown",
     "metadata": {},
     "source": [
      "Slowing down will stop acceleration. Car will maintain its current speed."
     ]
    },
    {
     "cell_type": "markdown",
     "metadata": {},
     "source": [
      "Step 8: Car awareness"
     ]
    },
    {
     "cell_type": "code",
     "collapsed": false,
     "input": [
      "sim = Simulation(5, 1)\n",
      "sim.run_simulation(5)"
     ],
     "language": "python",
     "metadata": {},
     "outputs": []
    },
    {
     "cell_type": "code",
     "collapsed": false,
     "input": [
      "sim.avoid_collisions()\n",
      "sim.cars[2].slow_down()\n",
      "print(sim.positions)\n"
     ],
     "language": "python",
     "metadata": {},
     "outputs": []
    },
    {
     "cell_type": "markdown",
     "metadata": {},
     "source": [
      "Step 9: Run sim for n seconds"
     ]
    },
    {
     "cell_type": "code",
     "collapsed": false,
     "input": [
      "sim = Simulation(10, 1)\n",
      "sim.run_simulation(2)\n",
      "sim.report()\n",
      "print(sim.cars[0].speed)\n"
     ],
     "language": "python",
     "metadata": {},
     "outputs": []
    },
    {
     "cell_type": "code",
     "collapsed": false,
     "input": [],
     "language": "python",
     "metadata": {},
     "outputs": []
    }
   ],
   "metadata": {}
  }
 ]
}