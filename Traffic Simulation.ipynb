{
 "metadata": {
  "name": "",
  "signature": "sha256:313919373cb689ee5cab86124f9aaffa6ccb60d39dd66d73ebc4bfb4af4575b4"
 },
 "nbformat": 3,
 "nbformat_minor": 0,
 "worksheets": [
  {
   "cells": [
    {
     "cell_type": "heading",
     "level": 1,
     "metadata": {},
     "source": [
      "Traffic Simulation"
     ]
    },
    {
     "cell_type": "markdown",
     "metadata": {},
     "source": [
      "There are 30 cars on a 1km stretch of straight road. Each car is accelerating to 120km/h. However, they will decrease in speed if they are in bounds of another vehicle. A car class must have an initial speed of zero and a goal speed of 120km/h. 10% of cars (sub-class) will randomly decrease in speed 2m/s, disallowing the cars behind them to continue increasing. There will be a road class that will know the position of all the cars."
     ]
    },
    {
     "cell_type": "code",
     "collapsed": false,
     "input": [
      "import random\n",
      "import numpy as np\n",
      "import statistics as st\n",
      "import matplotlib.pyplot as plt\n",
      "import seaborn as sb\n",
      "from collections import deque as d"
     ],
     "language": "python",
     "metadata": {},
     "outputs": [],
     "prompt_number": 114
    },
    {
     "cell_type": "code",
     "collapsed": false,
     "input": [
      "%matplotlib inline"
     ],
     "language": "python",
     "metadata": {},
     "outputs": [],
     "prompt_number": 115
    },
    {
     "cell_type": "heading",
     "level": 3,
     "metadata": {},
     "source": [
      "Create Car Class"
     ]
    },
    {
     "cell_type": "code",
     "collapsed": false,
     "input": [
      "class Car():\n",
      "    \"\"\"Responsibilities:\n",
      "    - having a starting speed, and a max speed\n",
      "    - having an acceleration rate\n",
      "    \n",
      "    Collaborators:\n",
      "    - receives starting position from Simulation\n",
      "    \"\"\"\n",
      "    \n",
      "    \n",
      "    def __init__(self, position):\n",
      "        \n",
      "        \n",
      "        self.position = position\n",
      "        self.top_speed = 33.33\n",
      "        self.size = 5\n",
      "        self.speed = 0\n",
      "        \n",
      "    def move_car(self):\n",
      "        \"\"\"Car will increase its speed until it reaches top speed\"\"\"\n",
      "        if self.position > 1000:\n",
      "            self.position = self.position%1000\n",
      "        if self.speed < self.top_speed:\n",
      "            self.speed += 2\n",
      "            self.position = self.position + self.speed\n",
      "        elif self.speed >= self.top_speed:\n",
      "            self.speed = self.top_speed\n",
      "            self.position = self.position + self.speed\n",
      "        return self.position#, self.speed\n",
      "        \"\"\"tested ok\"\"\"\n",
      "\n",
      "    \n",
      "    def slow_down(self):\n",
      "        \"\"\"Acceleration will randomly decrease for certain cars\"\"\"\n",
      "        if self.speed >= 0:\n",
      "            self.speed -= 2\n",
      "            self.position = self.position + self.speed\n",
      "        else:\n",
      "            self.move_car\n",
      "        return self.position\n",
      "        \"\"\"Tested ok\"\"\"\n",
      "    \n",
      "        \n",
      "        \n",
      "        \n",
      "        "
     ],
     "language": "python",
     "metadata": {},
     "outputs": [],
     "prompt_number": 116
    },
    {
     "cell_type": "code",
     "collapsed": false,
     "input": [
      "class Simulation():\n",
      "    \"\"\"\n",
      "    Responsibilities:\n",
      "    - generating cars\n",
      "    - placing cars\n",
      "    - setting cars in motion\n",
      "    - reporting the speed of all cars\n",
      "    - reporting the position of all cars\n",
      "    \n",
      "    Collaborators: Car\n",
      "    \"\"\"\n",
      "    \n",
      "    def __init__(self, num):\n",
      "        self.seconds = 0\n",
      "        self.num_cars = num\n",
      "        self.cars = []\n",
      "        self.positions = []\n",
      "        self.speeds = []\n",
      "\n",
      "        \n",
      "        \n",
      "    def generate_cars(self):\n",
      "        \"\"\"Will place 30 cars on the road at a distance of 20m\"\"\"\n",
      "        position = -20\n",
      "        for _ in range(self.num_cars):\n",
      "            position += 20\n",
      "            self.cars.append(Car(position))\n",
      "        return self.cars    \n",
      "\n",
      "    \n",
      "    def report_position_of_cars(self):\n",
      "        \"\"\"populate list with position of all cars\"\"\"\n",
      "        self.positions = []\n",
      "        for car in self.cars:\n",
      "            self.positions.append(car.position)\n",
      "        return self.positions\n",
      "        \"\"\"tested ok\"\"\"\n",
      "    \n",
      "    def set_cars_in_motion(self):\n",
      "        \"\"\"calls move function in car class\"\"\"\n",
      "        for car in self.cars:\n",
      "            car.move_car()\n",
      "        return car.position \n",
      "        \"\"\"tested ok\"\"\"\n",
      "            \n",
      "    \n",
      "    \n",
      "    def run_simulation(self):\n",
      "        self.generate_cars()\n",
      "        self.set_cars_in_motion()\n",
      "        self.report_position_of_cars()\n",
      "        \n",
      "        \n",
      "    def clean():\n",
      "        clean_positions = []\n",
      "        for pos in sim.positions:\n",
      "            clean_positions.append(int(pos))\n",
      "            return\n",
      "        return clean_positions    \n",
      "        \n",
      "    \n",
      "    def avoid_collisions(self):\n",
      "        clean_positions = [int(round(n, 0)) for n in self.positions]\n",
      "        for car in self.cars:\n",
      "            next_pos = car.position + car.speed\n",
      "            print(clean_positions)\n",
      "            if next_pos + 20 in clean_positions:\n",
      "                car.slow_down()\n",
      "            else:\n",
      "                car.move_car()\n",
      "        return car.position\n",
      "\n",
      "    \n",
      "    def report(self):\n",
      "        \"\"\"get some data from sim\"\"\"\n",
      "        return self.seconds, self.report_position_of_cars()\n",
      "    "
     ],
     "language": "python",
     "metadata": {},
     "outputs": [],
     "prompt_number": 117
    },
    {
     "cell_type": "markdown",
     "metadata": {},
     "source": [
      "Step 1: Test car generation"
     ]
    },
    {
     "cell_type": "code",
     "collapsed": false,
     "input": [
      "simulation = Simulation(15)\n",
      "simulation.run_simulation()\n",
      "print(len(simulation.cars))\n"
     ],
     "language": "python",
     "metadata": {},
     "outputs": [
      {
       "output_type": "stream",
       "stream": "stdout",
       "text": [
        "15\n"
       ]
      }
     ],
     "prompt_number": 118
    },
    {
     "cell_type": "markdown",
     "metadata": {},
     "source": [
      "Step 2: Test Cars have a starting position"
     ]
    },
    {
     "cell_type": "code",
     "collapsed": false,
     "input": [
      "simulation.report_position_of_cars()\n",
      "print(len(simulation.positions))"
     ],
     "language": "python",
     "metadata": {},
     "outputs": [
      {
       "output_type": "stream",
       "stream": "stdout",
       "text": [
        "15\n"
       ]
      }
     ],
     "prompt_number": 119
    },
    {
     "cell_type": "markdown",
     "metadata": {},
     "source": [
      "Step 3: Test one car can move"
     ]
    },
    {
     "cell_type": "code",
     "collapsed": false,
     "input": [
      "sim = Simulation(1)\n",
      "sim.run_simulation()"
     ],
     "language": "python",
     "metadata": {},
     "outputs": [],
     "prompt_number": 120
    },
    {
     "cell_type": "code",
     "collapsed": false,
     "input": [
      "print(sim.cars[0].position)\n",
      "sim.set_cars_in_motion()\n",
      "sim.report_position_of_cars()\n",
      "print(sim.cars[0].position)"
     ],
     "language": "python",
     "metadata": {},
     "outputs": [
      {
       "output_type": "stream",
       "stream": "stdout",
       "text": [
        "2\n",
        "6\n"
       ]
      }
     ],
     "prompt_number": 121
    },
    {
     "cell_type": "markdown",
     "metadata": {},
     "source": [
      "Step 4: Test car will stop accelerating at max speed"
     ]
    },
    {
     "cell_type": "code",
     "collapsed": false,
     "input": [
      "sim = Simulation(1)\n",
      "sim.run_simulation()"
     ],
     "language": "python",
     "metadata": {},
     "outputs": [],
     "prompt_number": 122
    },
    {
     "cell_type": "code",
     "collapsed": false,
     "input": [
      "print(sim.cars[0].position)\n",
      "sim.set_cars_in_motion()\n",
      "sim.report_position_of_cars()\n",
      "print(sim.cars[0].position)\n",
      "print(sim.cars[0].speed)"
     ],
     "language": "python",
     "metadata": {},
     "outputs": [
      {
       "output_type": "stream",
       "stream": "stdout",
       "text": [
        "2\n",
        "6\n",
        "4\n"
       ]
      }
     ],
     "prompt_number": 123
    },
    {
     "cell_type": "markdown",
     "metadata": {},
     "source": [
      "Step 5: Test car will go circle back to 1."
     ]
    },
    {
     "cell_type": "code",
     "collapsed": false,
     "input": [
      "sim = Simulation(1)\n",
      "sim.run_simulation()"
     ],
     "language": "python",
     "metadata": {},
     "outputs": [],
     "prompt_number": 124
    },
    {
     "cell_type": "code",
     "collapsed": false,
     "input": [
      "print(sim.cars[0].position)\n",
      "sim.set_cars_in_motion()\n",
      "sim.report_position_of_cars()\n",
      "print(sim.cars[0].position)\n",
      "print(sim.cars[0].speed)"
     ],
     "language": "python",
     "metadata": {},
     "outputs": [
      {
       "output_type": "stream",
       "stream": "stdout",
       "text": [
        "2\n",
        "6\n",
        "4\n"
       ]
      }
     ],
     "prompt_number": 125
    },
    {
     "cell_type": "markdown",
     "metadata": {},
     "source": [
      "Step 6: Test car's speed."
     ]
    },
    {
     "cell_type": "code",
     "collapsed": false,
     "input": [
      "sim = Simulation(1)\n",
      "sim.run_simulation()"
     ],
     "language": "python",
     "metadata": {},
     "outputs": [],
     "prompt_number": 126
    },
    {
     "cell_type": "code",
     "collapsed": false,
     "input": [
      "print(sim.cars[0].position)\n",
      "sim.set_cars_in_motion()\n",
      "sim.report_position_of_cars()\n",
      "print(sim.cars[0].position)\n",
      "print(sim.cars[0].speed)"
     ],
     "language": "python",
     "metadata": {},
     "outputs": [
      {
       "output_type": "stream",
       "stream": "stdout",
       "text": [
        "2\n",
        "6\n",
        "4\n"
       ]
      }
     ],
     "prompt_number": 127
    },
    {
     "cell_type": "markdown",
     "metadata": {},
     "source": [
      "Step 7: Test that a car can slow down."
     ]
    },
    {
     "cell_type": "code",
     "collapsed": false,
     "input": [
      "sim = Simulation(1)\n",
      "sim.run_simulation()"
     ],
     "language": "python",
     "metadata": {},
     "outputs": [],
     "prompt_number": 128
    },
    {
     "cell_type": "code",
     "collapsed": false,
     "input": [
      "print(sim.cars[0].position)\n",
      "sim.set_cars_in_motion()\n",
      "print(sim.cars[0].position)\n",
      "print(sim.cars[0].speed)\n",
      "sim.cars[0].slow_down()\n",
      "print(sim.cars[0].position)\n",
      "print(sim.cars[0].speed)\n",
      "sim.set_cars_in_motion()\n",
      "print(sim.cars[0].speed)"
     ],
     "language": "python",
     "metadata": {},
     "outputs": [
      {
       "output_type": "stream",
       "stream": "stdout",
       "text": [
        "2\n",
        "6\n",
        "4\n",
        "8\n",
        "2\n",
        "4\n"
       ]
      }
     ],
     "prompt_number": 129
    },
    {
     "cell_type": "markdown",
     "metadata": {},
     "source": [
      "Slowing down will stop acceleration. Car will maintain its current speed."
     ]
    },
    {
     "cell_type": "markdown",
     "metadata": {},
     "source": [
      "Step 8: Car awareness"
     ]
    },
    {
     "cell_type": "code",
     "collapsed": false,
     "input": [
      "sim = Simulation(10)\n",
      "sim.run_simulation()"
     ],
     "language": "python",
     "metadata": {},
     "outputs": [],
     "prompt_number": 218
    },
    {
     "cell_type": "code",
     "collapsed": false,
     "input": [
      "# make a check positions function that looks at the sim.positions list. If any position in that list \n",
      "# is within the tolerance of the next move, the car should slow down.\n",
      "sim.cars[1].slow_down()\n",
      "sim.avoid_collisions()\n",
      "print(sim.cars[0].position)\n",
      "print(sim.cars[1].position)\n",
      "\n",
      "\n",
      "\n",
      "\n"
     ],
     "language": "python",
     "metadata": {},
     "outputs": [
      {
       "output_type": "stream",
       "stream": "stdout",
       "text": [
        "[2, 22, 42, 62, 82, 102, 122, 142, 162, 182]\n",
        "[2, 22, 42, 62, 82, 102, 122, 142, 162, 182]\n",
        "[2, 22, 42, 62, 82, 102, 122, 142, 162, 182]\n",
        "[2, 22, 42, 62, 82, 102, 122, 142, 162, 182]\n",
        "[2, 22, 42, 62, 82, 102, 122, 142, 162, 182]\n",
        "[2, 22, 42, 62, 82, 102, 122, 142, 162, 182]\n",
        "[2, 22, 42, 62, 82, 102, 122, 142, 162, 182]\n",
        "[2, 22, 42, 62, 82, 102, 122, 142, 162, 182]\n",
        "[2, 22, 42, 62, 82, 102, 122, 142, 162, 182]\n",
        "[2, 22, 42, 62, 82, 102, 122, 142, 162, 182]\n",
        "6\n",
        "20\n"
       ]
      }
     ],
     "prompt_number": 162
    },
    {
     "cell_type": "code",
     "collapsed": false,
     "input": [
      "def rotate_pos():\n",
      "    list1 = d([sim.positions])\n",
      "    print(list1)\n",
      "    print(list1.rotate(1))\n",
      "\n",
      "rotate_pos()"
     ],
     "language": "python",
     "metadata": {},
     "outputs": [
      {
       "output_type": "stream",
       "stream": "stdout",
       "text": [
        "deque([[2, 22, 42, 62, 82, 102, 122, 142, 162, 182]])\n",
        "None\n"
       ]
      }
     ],
     "prompt_number": 216
    },
    {
     "cell_type": "code",
     "collapsed": false,
     "input": [
      "tolerance = 20\n",
      "for i, car in enumerate(sim.cars):\n",
      "    if (i, car.position + tolerance) >= (i+1, car.position):\n",
      "        print(car.position)\n",
      "        print(sim.cars)\n",
      "    else:\n",
      "        print(\"I'm not telling\")\n",
      "\n"
     ],
     "language": "python",
     "metadata": {},
     "outputs": [
      {
       "output_type": "stream",
       "stream": "stdout",
       "text": [
        "I'm not telling\n",
        "I'm not telling\n",
        "I'm not telling\n",
        "I'm not telling\n",
        "I'm not telling\n",
        "I'm not telling\n",
        "I'm not telling\n",
        "I'm not telling\n",
        "I'm not telling\n",
        "I'm not telling\n"
       ]
      }
     ],
     "prompt_number": 227
    }
   ],
   "metadata": {}
  }
 ]
}