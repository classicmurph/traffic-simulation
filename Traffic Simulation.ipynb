{
 "metadata": {
  "name": "",
  "signature": "sha256:129c188a96f84a48505c66cae18a96353a399416fe8f5b2d4b627938bbe6f8d5"
 },
 "nbformat": 3,
 "nbformat_minor": 0,
 "worksheets": [
  {
   "cells": [
    {
     "cell_type": "heading",
     "level": 1,
     "metadata": {},
     "source": [
      "Traffic Simulation"
     ]
    },
    {
     "cell_type": "markdown",
     "metadata": {},
     "source": [
      "There are 30 cars on a 1km stretch of straight road. Each car is accelerating to 120km/h. However, they will decrease in speed if they are in bounds of another vehicle. A car class must have an initial speed of zero and a goal speed of 120km/h. 10% of cars (sub-class) will randomly decrease in speed 2m/s, disallowing the cars behind them to continue increasing. There will be a road class that will know the position of all the cars."
     ]
    },
    {
     "cell_type": "code",
     "collapsed": false,
     "input": [
      "import random\n",
      "import numpy as np\n",
      "import statistics as st\n",
      "import matplotlib.pyplot as plt\n",
      "import seaborn as sb"
     ],
     "language": "python",
     "metadata": {},
     "outputs": [],
     "prompt_number": 1
    },
    {
     "cell_type": "code",
     "collapsed": false,
     "input": [
      "%matplotlib inline"
     ],
     "language": "python",
     "metadata": {},
     "outputs": [],
     "prompt_number": 2
    },
    {
     "cell_type": "heading",
     "level": 3,
     "metadata": {},
     "source": [
      "Create Car Class"
     ]
    },
    {
     "cell_type": "code",
     "collapsed": false,
     "input": [
      "class Car():\n",
      "    \"\"\"Responsibilities:\n",
      "    - having a starting speed, and a max speed\n",
      "    - having an acceleration rate\n",
      "    \n",
      "    Collaborators:\n",
      "    - receives starting position from Simulation\n",
      "    \"\"\"\n",
      "    \n",
      "    \n",
      "    def __init__(self):\n",
      "        \n",
      "        self.x = random.randrange(1, 1000)\n",
      "        self.position = self.x % 1000\n",
      "        self.top_speed = 2000\n",
      "        self.size = 5\n",
      "        self.speed = 0\n",
      "        \n",
      "    def move_car(self):\n",
      "        \"\"\"Car will increase its speed until it reaches top speed\"\"\"\n",
      "        if self.speed < self.top_speed:\n",
      "            self.speed += 2\n",
      "            self.position = self.position + self.speed\n",
      "        if self.speed >= self.top_speed:\n",
      "            self.speed = self.top_speed\n",
      "        return self.position % 1000, self.speed\n",
      "        \"\"\"tested ok\"\"\"\n",
      "        \n",
      "        \n",
      "    def tailgate(self):\n",
      "        \"\"\"Car will decrease to maintain distance to car in front. Called from Simulation\"\"\"\n",
      "        accel = self.x - 10\n",
      "        return accel\n",
      "    \n",
      "    def random_decrease(self):\n",
      "        \"\"\"Acceleration will randomly decrease for certain cars\"\"\"\n",
      "        accel = self.x - 2\n",
      "        return accel\n",
      "    \n",
      "        \n",
      "        \n",
      "        \n",
      "        "
     ],
     "language": "python",
     "metadata": {},
     "outputs": [],
     "prompt_number": 40
    },
    {
     "cell_type": "code",
     "collapsed": false,
     "input": [],
     "language": "python",
     "metadata": {},
     "outputs": [],
     "prompt_number": 3
    },
    {
     "cell_type": "heading",
     "level": 3,
     "metadata": {},
     "source": [
      "Create Road"
     ]
    },
    {
     "cell_type": "code",
     "collapsed": false,
     "input": [
      "class Road():\n",
      "    \"\"\"\n",
      "    Responsibilities:\n",
      "    - knowing the position of the cars.\n",
      "    - alerting a car to slow down.\n",
      "    \"\"\"\n",
      "    \n",
      "    def __init__(self, length=1):\n",
      "        self.length = length\n",
      "        length = 1000\n",
      "    \n",
      "    def get_car_position(self):\n",
      "        \"\"\"Get position of a car on the road\"\"\"\n",
      "        \n",
      "    \n",
      "    \n",
      "        \n",
      "        "
     ],
     "language": "python",
     "metadata": {},
     "outputs": [],
     "prompt_number": 4
    },
    {
     "cell_type": "code",
     "collapsed": false,
     "input": [
      "class Simulation():\n",
      "    \"\"\"\n",
      "    Responsibilities:\n",
      "    - generating cars\n",
      "    - placing cars\n",
      "    - setting cars in motion\n",
      "    - reporting the speed of all cars\n",
      "    - reporting the position of all cars\n",
      "    \n",
      "    Collaborators: Road, Car\n",
      "    \"\"\"\n",
      "    \n",
      "    def __init__(self, road, num):\n",
      "        self.road = Road()\n",
      "        self.seconds = 0\n",
      "        self.num_cars = num #number of cars on road\n",
      "        self.cars = []\n",
      "        self.positions = []\n",
      "\n",
      "        \n",
      "        \n",
      "    def generate_cars(self):\n",
      "        \"\"\"Will place 30 cars on the road at a distance of 20m\"\"\"\n",
      "        for _ in range(self.num_cars):\n",
      "            self.cars.append(Car())\n",
      "        \"\"\"tested ok\"\"\"\n",
      "        return self.cars\n",
      "\n",
      "\n",
      "    def report_position_of_cars(self):\n",
      "        \"\"\"populate list with position of all cars\"\"\"\n",
      "        self.positions = []\n",
      "        for car in self.cars:\n",
      "            self.positions.append(car.position)\n",
      "        return self.positions\n",
      "        \"\"\"tested ok\"\"\"\n",
      "    \n",
      "    def set_cars_in_motion(self):\n",
      "        \"\"\"calls move function in car class\"\"\"\n",
      "        for car in self.cars:\n",
      "            car.move_car()\n",
      "        return car.position \n",
      "        \"\"\"tested ok\"\"\"\n",
      "            \n",
      "    \n",
      "    \n",
      "    def run_simulation(self):\n",
      "        self.generate_cars()\n",
      "        self.set_cars_in_motion()\n",
      "        \n",
      "            \n",
      "\n",
      "            \n",
      "            \n",
      "#     def check_speed_of_cars(self):\n",
      "#         \"\"\"Return an array of current speeds\"\"\"\n",
      "#         [speed in car.speed for car in self.cars]\n",
      "#         return self.speeds\n",
      "    \n",
      "#     def avoid_collisions(self):\n",
      "#         \"\"\"use enumerate n and n+1\"\"\"\n",
      "#         tolerance = 20\n",
      "#         for n, car.position in enumerate(self.positions):\n",
      "#             if car.position[n] < (car.position[n+1] - tolerance):\n",
      "#                 car.tailgate()\n",
      "    \n",
      "#     def drive(self):\n",
      "#         \"\"\"Will set the cars in motion with a while loop\"\"\"\n",
      "#         while self.seconds < 10:\n",
      "#             for car in self.cars:\n",
      "#                 car.move() \n",
      "#         self.seconds += 1\n",
      "#         return self.seconds\n",
      "\n",
      "    \n",
      "    def report(self):\n",
      "        \"\"\"get some data from sim\"\"\"\n",
      "        return self.seconds, self.report_position_of_cars()\n",
      "    "
     ],
     "language": "python",
     "metadata": {},
     "outputs": [],
     "prompt_number": 5
    },
    {
     "cell_type": "markdown",
     "metadata": {},
     "source": [
      "Step 1: Test car generation"
     ]
    },
    {
     "cell_type": "code",
     "collapsed": false,
     "input": [
      "road = Road()\n",
      "\n",
      "simulation = Simulation(road, 30)\n",
      "simulation.run_simulation()\n",
      "print(len(simulation.cars))\n"
     ],
     "language": "python",
     "metadata": {},
     "outputs": [
      {
       "output_type": "stream",
       "stream": "stdout",
       "text": [
        "30\n"
       ]
      }
     ],
     "prompt_number": 41
    },
    {
     "cell_type": "markdown",
     "metadata": {},
     "source": [
      "Step 2: Test Cars have a starting position"
     ]
    },
    {
     "cell_type": "code",
     "collapsed": false,
     "input": [
      "simulation.report_position_of_cars()\n",
      "print(len(simulation.positions))"
     ],
     "language": "python",
     "metadata": {},
     "outputs": [
      {
       "output_type": "stream",
       "stream": "stdout",
       "text": [
        "30\n"
       ]
      }
     ],
     "prompt_number": 42
    },
    {
     "cell_type": "markdown",
     "metadata": {},
     "source": [
      "Step 3: Test one car can move"
     ]
    },
    {
     "cell_type": "code",
     "collapsed": false,
     "input": [
      "sim = Simulation(road, 1)\n",
      "sim.run_simulation()"
     ],
     "language": "python",
     "metadata": {},
     "outputs": [],
     "prompt_number": 43
    },
    {
     "cell_type": "code",
     "collapsed": false,
     "input": [
      "print(sim.cars[0].position)\n",
      "sim.set_cars_in_motion()\n",
      "sim.report_position_of_cars()\n",
      "print(sim.cars[0].position)"
     ],
     "language": "python",
     "metadata": {},
     "outputs": [
      {
       "output_type": "stream",
       "stream": "stdout",
       "text": [
        "1501\n",
        "1549\n"
       ]
      }
     ],
     "prompt_number": 66
    },
    {
     "cell_type": "code",
     "collapsed": false,
     "input": [],
     "language": "python",
     "metadata": {},
     "outputs": [],
     "prompt_number": 9
    },
    {
     "cell_type": "code",
     "collapsed": false,
     "input": [],
     "language": "python",
     "metadata": {},
     "outputs": [],
     "prompt_number": 9
    },
    {
     "cell_type": "code",
     "collapsed": false,
     "input": [],
     "language": "python",
     "metadata": {},
     "outputs": [],
     "prompt_number": 9
    },
    {
     "cell_type": "code",
     "collapsed": false,
     "input": [],
     "language": "python",
     "metadata": {},
     "outputs": []
    }
   ],
   "metadata": {}
  }
 ]
}